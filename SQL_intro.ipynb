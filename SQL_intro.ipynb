{
 "cells": [
  {
   "cell_type": "markdown",
   "metadata": {},
   "source": [
    "<font size='5'><b>Introduction to SQL</b><font>"
   ]
  },
  {
   "cell_type": "code",
   "execution_count": 1,
   "metadata": {
    "ExecuteTime": {
     "end_time": "2020-11-21T15:56:45.450144Z",
     "start_time": "2020-11-21T15:56:44.844111Z"
    }
   },
   "outputs": [],
   "source": [
    "import pandas as pd\n",
    "import sqlite3\n",
    "conn = sqlite3.connect('data.sqlite')\n",
    "cur = conn.cursor()"
   ]
  },
  {
   "cell_type": "markdown",
   "metadata": {
    "ExecuteTime": {
     "end_time": "2020-11-21T15:46:18.182012Z",
     "start_time": "2020-11-21T15:46:18.054882Z"
    }
   },
   "source": [
    "![Figure_1](img/SQL_Schema.png)"
   ]
  },
  {
   "cell_type": "markdown",
   "metadata": {},
   "source": [
    "<font size='4'><b>Querying Via the Connection</b><font>"
   ]
  },
  {
   "cell_type": "code",
   "execution_count": 2,
   "metadata": {
    "ExecuteTime": {
     "end_time": "2020-11-21T15:56:45.464584Z",
     "start_time": "2020-11-21T15:56:45.452626Z"
    },
    "scrolled": false
   },
   "outputs": [
    {
     "data": {
      "text/plain": [
       "[('1002',\n",
       "  'Murphy',\n",
       "  'Diane',\n",
       "  'x5800',\n",
       "  'dmurphy@classicmodelcars.com',\n",
       "  '1',\n",
       "  '',\n",
       "  'President'),\n",
       " ('1056',\n",
       "  'Patterson',\n",
       "  'Mary',\n",
       "  'x4611',\n",
       "  'mpatterso@classicmodelcars.com',\n",
       "  '1',\n",
       "  '1002',\n",
       "  'VP Sales'),\n",
       " ('1076',\n",
       "  'Firrelli',\n",
       "  'Jeff',\n",
       "  'x9273',\n",
       "  'jfirrelli@classicmodelcars.com',\n",
       "  '1',\n",
       "  '1002',\n",
       "  'VP Marketing')]"
      ]
     },
     "execution_count": 2,
     "metadata": {},
     "output_type": "execute_result"
    }
   ],
   "source": [
    "cur.execute(\"\"\"SELECT * FROM employees LIMIT 3;\"\"\").fetchall()"
   ]
  },
  {
   "cell_type": "markdown",
   "metadata": {
    "ExecuteTime": {
     "end_time": "2020-11-21T15:54:12.721001Z",
     "start_time": "2020-11-21T15:54:12.716262Z"
    }
   },
   "source": [
    "<font size=\"4\"><b>Quick note on formatting syntax:</b><font><br>\n",
    "    \n",
    "<font size=\"3\">When working with strings, you may have previously seen a 'string', a \"string\", a '''string''', or a \"\"\"string\"\"\". While all of these are strings, the triple quotes have the added functionality of being able to use multiple lines within the same string. Sometimes, SQL queries can be much longer than others, in which case it's helpful to use new lines for readability. Here's a short example:<font>"
   ]
  },
  {
   "cell_type": "code",
   "execution_count": 4,
   "metadata": {
    "ExecuteTime": {
     "end_time": "2020-11-21T15:58:27.069281Z",
     "start_time": "2020-11-21T15:58:27.064613Z"
    }
   },
   "outputs": [
    {
     "data": {
      "text/plain": [
       "[('1002',\n",
       "  'Murphy',\n",
       "  'Diane',\n",
       "  'x5800',\n",
       "  'dmurphy@classicmodelcars.com',\n",
       "  '1',\n",
       "  '',\n",
       "  'President'),\n",
       " ('1056',\n",
       "  'Patterson',\n",
       "  'Mary',\n",
       "  'x4611',\n",
       "  'mpatterso@classicmodelcars.com',\n",
       "  '1',\n",
       "  '1002',\n",
       "  'VP Sales'),\n",
       " ('1076',\n",
       "  'Firrelli',\n",
       "  'Jeff',\n",
       "  'x9273',\n",
       "  'jfirrelli@classicmodelcars.com',\n",
       "  '1',\n",
       "  '1002',\n",
       "  'VP Marketing'),\n",
       " ('1088',\n",
       "  'Patterson',\n",
       "  'William',\n",
       "  'x4871',\n",
       "  'wpatterson@classicmodelcars.com',\n",
       "  '6',\n",
       "  '1056',\n",
       "  'Sales Manager (APAC)'),\n",
       " ('1102',\n",
       "  'Bondur',\n",
       "  'Gerard',\n",
       "  'x5408',\n",
       "  'gbondur@classicmodelcars.com',\n",
       "  '4',\n",
       "  '1056',\n",
       "  'Sale Manager (EMEA)')]"
      ]
     },
     "execution_count": 4,
     "metadata": {},
     "output_type": "execute_result"
    }
   ],
   "source": [
    "cur.execute(\"\"\"SELECT * FROM employees LIMIT 5;\"\"\").fetchall()"
   ]
  },
  {
   "cell_type": "code",
   "execution_count": null,
   "metadata": {},
   "outputs": [],
   "source": []
  },
  {
   "cell_type": "markdown",
   "metadata": {},
   "source": [
    "<font size='4'><b>Wrapping Results into a Pandas DataFrame<b><font>"
   ]
  },
  {
   "cell_type": "code",
   "execution_count": 3,
   "metadata": {
    "ExecuteTime": {
     "end_time": "2020-11-21T15:56:45.487658Z",
     "start_time": "2020-11-21T15:56:45.467277Z"
    },
    "scrolled": true
   },
   "outputs": [
    {
     "data": {
      "text/html": [
       "<div>\n",
       "<style scoped>\n",
       "    .dataframe tbody tr th:only-of-type {\n",
       "        vertical-align: middle;\n",
       "    }\n",
       "\n",
       "    .dataframe tbody tr th {\n",
       "        vertical-align: top;\n",
       "    }\n",
       "\n",
       "    .dataframe thead th {\n",
       "        text-align: right;\n",
       "    }\n",
       "</style>\n",
       "<table border=\"1\" class=\"dataframe\">\n",
       "  <thead>\n",
       "    <tr style=\"text-align: right;\">\n",
       "      <th></th>\n",
       "      <th>0</th>\n",
       "      <th>1</th>\n",
       "      <th>2</th>\n",
       "      <th>3</th>\n",
       "      <th>4</th>\n",
       "      <th>5</th>\n",
       "      <th>6</th>\n",
       "      <th>7</th>\n",
       "    </tr>\n",
       "  </thead>\n",
       "  <tbody>\n",
       "    <tr>\n",
       "      <th>0</th>\n",
       "      <td>1002</td>\n",
       "      <td>Murphy</td>\n",
       "      <td>Diane</td>\n",
       "      <td>x5800</td>\n",
       "      <td>dmurphy@classicmodelcars.com</td>\n",
       "      <td>1</td>\n",
       "      <td></td>\n",
       "      <td>President</td>\n",
       "    </tr>\n",
       "    <tr>\n",
       "      <th>1</th>\n",
       "      <td>1056</td>\n",
       "      <td>Patterson</td>\n",
       "      <td>Mary</td>\n",
       "      <td>x4611</td>\n",
       "      <td>mpatterso@classicmodelcars.com</td>\n",
       "      <td>1</td>\n",
       "      <td>1002</td>\n",
       "      <td>VP Sales</td>\n",
       "    </tr>\n",
       "    <tr>\n",
       "      <th>2</th>\n",
       "      <td>1076</td>\n",
       "      <td>Firrelli</td>\n",
       "      <td>Jeff</td>\n",
       "      <td>x9273</td>\n",
       "      <td>jfirrelli@classicmodelcars.com</td>\n",
       "      <td>1</td>\n",
       "      <td>1002</td>\n",
       "      <td>VP Marketing</td>\n",
       "    </tr>\n",
       "    <tr>\n",
       "      <th>3</th>\n",
       "      <td>1088</td>\n",
       "      <td>Patterson</td>\n",
       "      <td>William</td>\n",
       "      <td>x4871</td>\n",
       "      <td>wpatterson@classicmodelcars.com</td>\n",
       "      <td>6</td>\n",
       "      <td>1056</td>\n",
       "      <td>Sales Manager (APAC)</td>\n",
       "    </tr>\n",
       "    <tr>\n",
       "      <th>4</th>\n",
       "      <td>1102</td>\n",
       "      <td>Bondur</td>\n",
       "      <td>Gerard</td>\n",
       "      <td>x5408</td>\n",
       "      <td>gbondur@classicmodelcars.com</td>\n",
       "      <td>4</td>\n",
       "      <td>1056</td>\n",
       "      <td>Sale Manager (EMEA)</td>\n",
       "    </tr>\n",
       "  </tbody>\n",
       "</table>\n",
       "</div>"
      ],
      "text/plain": [
       "      0          1        2      3                                4  5     6  \\\n",
       "0  1002     Murphy    Diane  x5800     dmurphy@classicmodelcars.com  1         \n",
       "1  1056  Patterson     Mary  x4611   mpatterso@classicmodelcars.com  1  1002   \n",
       "2  1076   Firrelli     Jeff  x9273   jfirrelli@classicmodelcars.com  1  1002   \n",
       "3  1088  Patterson  William  x4871  wpatterson@classicmodelcars.com  6  1056   \n",
       "4  1102     Bondur   Gerard  x5408     gbondur@classicmodelcars.com  4  1056   \n",
       "\n",
       "                      7  \n",
       "0             President  \n",
       "1              VP Sales  \n",
       "2          VP Marketing  \n",
       "3  Sales Manager (APAC)  \n",
       "4   Sale Manager (EMEA)  "
      ]
     },
     "execution_count": 3,
     "metadata": {},
     "output_type": "execute_result"
    }
   ],
   "source": [
    "cur.execute(\"\"\"SELECT * FROM employees LIMIT 5;\"\"\")\n",
    "df = pd.DataFrame(cur.fetchall())\n",
    "df.head()"
   ]
  },
  {
   "cell_type": "markdown",
   "metadata": {},
   "source": [
    "As you can see we are missing the column names. So lets fix this:"
   ]
  },
  {
   "cell_type": "code",
   "execution_count": 7,
   "metadata": {
    "ExecuteTime": {
     "end_time": "2020-11-21T16:01:21.602755Z",
     "start_time": "2020-11-21T16:01:21.588905Z"
    }
   },
   "outputs": [
    {
     "data": {
      "text/html": [
       "<div>\n",
       "<style scoped>\n",
       "    .dataframe tbody tr th:only-of-type {\n",
       "        vertical-align: middle;\n",
       "    }\n",
       "\n",
       "    .dataframe tbody tr th {\n",
       "        vertical-align: top;\n",
       "    }\n",
       "\n",
       "    .dataframe thead th {\n",
       "        text-align: right;\n",
       "    }\n",
       "</style>\n",
       "<table border=\"1\" class=\"dataframe\">\n",
       "  <thead>\n",
       "    <tr style=\"text-align: right;\">\n",
       "      <th></th>\n",
       "      <th>employeeNumber</th>\n",
       "      <th>lastName</th>\n",
       "      <th>firstName</th>\n",
       "      <th>extension</th>\n",
       "      <th>email</th>\n",
       "      <th>officeCode</th>\n",
       "      <th>reportsTo</th>\n",
       "      <th>jobTitle</th>\n",
       "    </tr>\n",
       "  </thead>\n",
       "  <tbody>\n",
       "    <tr>\n",
       "      <th>0</th>\n",
       "      <td>1002</td>\n",
       "      <td>Murphy</td>\n",
       "      <td>Diane</td>\n",
       "      <td>x5800</td>\n",
       "      <td>dmurphy@classicmodelcars.com</td>\n",
       "      <td>1</td>\n",
       "      <td></td>\n",
       "      <td>President</td>\n",
       "    </tr>\n",
       "    <tr>\n",
       "      <th>1</th>\n",
       "      <td>1056</td>\n",
       "      <td>Patterson</td>\n",
       "      <td>Mary</td>\n",
       "      <td>x4611</td>\n",
       "      <td>mpatterso@classicmodelcars.com</td>\n",
       "      <td>1</td>\n",
       "      <td>1002</td>\n",
       "      <td>VP Sales</td>\n",
       "    </tr>\n",
       "    <tr>\n",
       "      <th>2</th>\n",
       "      <td>1076</td>\n",
       "      <td>Firrelli</td>\n",
       "      <td>Jeff</td>\n",
       "      <td>x9273</td>\n",
       "      <td>jfirrelli@classicmodelcars.com</td>\n",
       "      <td>1</td>\n",
       "      <td>1002</td>\n",
       "      <td>VP Marketing</td>\n",
       "    </tr>\n",
       "    <tr>\n",
       "      <th>3</th>\n",
       "      <td>1088</td>\n",
       "      <td>Patterson</td>\n",
       "      <td>William</td>\n",
       "      <td>x4871</td>\n",
       "      <td>wpatterson@classicmodelcars.com</td>\n",
       "      <td>6</td>\n",
       "      <td>1056</td>\n",
       "      <td>Sales Manager (APAC)</td>\n",
       "    </tr>\n",
       "    <tr>\n",
       "      <th>4</th>\n",
       "      <td>1102</td>\n",
       "      <td>Bondur</td>\n",
       "      <td>Gerard</td>\n",
       "      <td>x5408</td>\n",
       "      <td>gbondur@classicmodelcars.com</td>\n",
       "      <td>4</td>\n",
       "      <td>1056</td>\n",
       "      <td>Sale Manager (EMEA)</td>\n",
       "    </tr>\n",
       "  </tbody>\n",
       "</table>\n",
       "</div>"
      ],
      "text/plain": [
       "  employeeNumber   lastName firstName extension  \\\n",
       "0           1002     Murphy     Diane     x5800   \n",
       "1           1056  Patterson      Mary     x4611   \n",
       "2           1076   Firrelli      Jeff     x9273   \n",
       "3           1088  Patterson   William     x4871   \n",
       "4           1102     Bondur    Gerard     x5408   \n",
       "\n",
       "                             email officeCode reportsTo              jobTitle  \n",
       "0     dmurphy@classicmodelcars.com          1                       President  \n",
       "1   mpatterso@classicmodelcars.com          1      1002              VP Sales  \n",
       "2   jfirrelli@classicmodelcars.com          1      1002          VP Marketing  \n",
       "3  wpatterson@classicmodelcars.com          6      1056  Sales Manager (APAC)  \n",
       "4     gbondur@classicmodelcars.com          4      1056   Sale Manager (EMEA)  "
      ]
     },
     "execution_count": 7,
     "metadata": {},
     "output_type": "execute_result"
    }
   ],
   "source": [
    "cur.execute(\"\"\"SELECT * FROM employees LIMIT 5;\"\"\")\n",
    "df = pd.DataFrame(cur.fetchall())\n",
    "df.columns = [x[0] for x in cur.description]\n",
    "df.head()"
   ]
  },
  {
   "cell_type": "markdown",
   "metadata": {},
   "source": [
    "<font size='5'><b>Using the Where clause</b><font>"
   ]
  },
  {
   "cell_type": "code",
   "execution_count": 10,
   "metadata": {
    "ExecuteTime": {
     "end_time": "2020-11-21T16:04:09.334081Z",
     "start_time": "2020-11-21T16:04:09.317422Z"
    }
   },
   "outputs": [
    {
     "data": {
      "text/html": [
       "<div>\n",
       "<style scoped>\n",
       "    .dataframe tbody tr th:only-of-type {\n",
       "        vertical-align: middle;\n",
       "    }\n",
       "\n",
       "    .dataframe tbody tr th {\n",
       "        vertical-align: top;\n",
       "    }\n",
       "\n",
       "    .dataframe thead th {\n",
       "        text-align: right;\n",
       "    }\n",
       "</style>\n",
       "<table border=\"1\" class=\"dataframe\">\n",
       "  <thead>\n",
       "    <tr style=\"text-align: right;\">\n",
       "      <th></th>\n",
       "      <th>customerNumber</th>\n",
       "      <th>customerName</th>\n",
       "      <th>contactLastName</th>\n",
       "      <th>contactFirstName</th>\n",
       "      <th>phone</th>\n",
       "      <th>addressLine1</th>\n",
       "      <th>addressLine2</th>\n",
       "      <th>city</th>\n",
       "      <th>state</th>\n",
       "      <th>postalCode</th>\n",
       "      <th>country</th>\n",
       "      <th>salesRepEmployeeNumber</th>\n",
       "      <th>creditLimit</th>\n",
       "    </tr>\n",
       "  </thead>\n",
       "  <tbody>\n",
       "    <tr>\n",
       "      <th>0</th>\n",
       "      <td>362</td>\n",
       "      <td>Gifts4AllAges.com</td>\n",
       "      <td>Yoshido</td>\n",
       "      <td>Juri</td>\n",
       "      <td>6175559555</td>\n",
       "      <td>8616 Spinnaker Dr.</td>\n",
       "      <td></td>\n",
       "      <td>Boston</td>\n",
       "      <td>MA</td>\n",
       "      <td>51003</td>\n",
       "      <td>USA</td>\n",
       "      <td>1216</td>\n",
       "      <td>41900.00</td>\n",
       "    </tr>\n",
       "    <tr>\n",
       "      <th>1</th>\n",
       "      <td>495</td>\n",
       "      <td>Diecast Collectables</td>\n",
       "      <td>Franco</td>\n",
       "      <td>Valarie</td>\n",
       "      <td>6175552555</td>\n",
       "      <td>6251 Ingle Ln.</td>\n",
       "      <td></td>\n",
       "      <td>Boston</td>\n",
       "      <td>MA</td>\n",
       "      <td>51003</td>\n",
       "      <td>USA</td>\n",
       "      <td>1188</td>\n",
       "      <td>85100.00</td>\n",
       "    </tr>\n",
       "  </tbody>\n",
       "</table>\n",
       "</div>"
      ],
      "text/plain": [
       "  customerNumber          customerName contactLastName contactFirstName  \\\n",
       "0            362     Gifts4AllAges.com         Yoshido             Juri   \n",
       "1            495  Diecast Collectables          Franco          Valarie   \n",
       "\n",
       "        phone        addressLine1 addressLine2    city state postalCode  \\\n",
       "0  6175559555  8616 Spinnaker Dr.               Boston    MA      51003   \n",
       "1  6175552555      6251 Ingle Ln.               Boston    MA      51003   \n",
       "\n",
       "  country salesRepEmployeeNumber creditLimit  \n",
       "0     USA                   1216    41900.00  \n",
       "1     USA                   1188    85100.00  "
      ]
     },
     "execution_count": 10,
     "metadata": {},
     "output_type": "execute_result"
    }
   ],
   "source": [
    "cur.execute(\"\"\"SELECT * FROM customers WHERE city = 'Boston';\"\"\")\n",
    "df = pd.DataFrame(cur.fetchall())\n",
    "df.columns = [x[0] for x in cur.description]\n",
    "df.head()"
   ]
  },
  {
   "cell_type": "markdown",
   "metadata": {},
   "source": [
    "<font size='5'><b>Selecting Multiple Cities</b><font>"
   ]
  },
  {
   "cell_type": "code",
   "execution_count": 12,
   "metadata": {
    "ExecuteTime": {
     "end_time": "2020-11-21T16:06:30.153929Z",
     "start_time": "2020-11-21T16:06:30.136049Z"
    }
   },
   "outputs": [
    {
     "data": {
      "text/html": [
       "<div>\n",
       "<style scoped>\n",
       "    .dataframe tbody tr th:only-of-type {\n",
       "        vertical-align: middle;\n",
       "    }\n",
       "\n",
       "    .dataframe tbody tr th {\n",
       "        vertical-align: top;\n",
       "    }\n",
       "\n",
       "    .dataframe thead th {\n",
       "        text-align: right;\n",
       "    }\n",
       "</style>\n",
       "<table border=\"1\" class=\"dataframe\">\n",
       "  <thead>\n",
       "    <tr style=\"text-align: right;\">\n",
       "      <th></th>\n",
       "      <th>customerNumber</th>\n",
       "      <th>customerName</th>\n",
       "      <th>contactLastName</th>\n",
       "      <th>contactFirstName</th>\n",
       "      <th>phone</th>\n",
       "      <th>addressLine1</th>\n",
       "      <th>addressLine2</th>\n",
       "      <th>city</th>\n",
       "      <th>state</th>\n",
       "      <th>postalCode</th>\n",
       "      <th>country</th>\n",
       "      <th>salesRepEmployeeNumber</th>\n",
       "      <th>creditLimit</th>\n",
       "    </tr>\n",
       "  </thead>\n",
       "  <tbody>\n",
       "    <tr>\n",
       "      <th>0</th>\n",
       "      <td>141</td>\n",
       "      <td>Euro+ Shopping Channel</td>\n",
       "      <td>Freyre</td>\n",
       "      <td>Diego</td>\n",
       "      <td>(91) 555 94 44</td>\n",
       "      <td>C/ Moralzarzal, 86</td>\n",
       "      <td></td>\n",
       "      <td>Madrid</td>\n",
       "      <td></td>\n",
       "      <td>28034</td>\n",
       "      <td>Spain</td>\n",
       "      <td>1370</td>\n",
       "      <td>227600.00</td>\n",
       "    </tr>\n",
       "    <tr>\n",
       "      <th>1</th>\n",
       "      <td>237</td>\n",
       "      <td>ANG Resellers</td>\n",
       "      <td>Camino</td>\n",
       "      <td>Alejandra</td>\n",
       "      <td>(91) 745 6555</td>\n",
       "      <td>Gran Vía, 1</td>\n",
       "      <td></td>\n",
       "      <td>Madrid</td>\n",
       "      <td></td>\n",
       "      <td>28001</td>\n",
       "      <td>Spain</td>\n",
       "      <td></td>\n",
       "      <td>0.00</td>\n",
       "    </tr>\n",
       "    <tr>\n",
       "      <th>2</th>\n",
       "      <td>344</td>\n",
       "      <td>CAF Imports</td>\n",
       "      <td>Fernandez</td>\n",
       "      <td>Jesus</td>\n",
       "      <td>+34 913 728 555</td>\n",
       "      <td>Merchants House</td>\n",
       "      <td>27-30 Merchant's Quay</td>\n",
       "      <td>Madrid</td>\n",
       "      <td></td>\n",
       "      <td>28023</td>\n",
       "      <td>Spain</td>\n",
       "      <td>1702</td>\n",
       "      <td>59600.00</td>\n",
       "    </tr>\n",
       "    <tr>\n",
       "      <th>3</th>\n",
       "      <td>362</td>\n",
       "      <td>Gifts4AllAges.com</td>\n",
       "      <td>Yoshido</td>\n",
       "      <td>Juri</td>\n",
       "      <td>6175559555</td>\n",
       "      <td>8616 Spinnaker Dr.</td>\n",
       "      <td></td>\n",
       "      <td>Boston</td>\n",
       "      <td>MA</td>\n",
       "      <td>51003</td>\n",
       "      <td>USA</td>\n",
       "      <td>1216</td>\n",
       "      <td>41900.00</td>\n",
       "    </tr>\n",
       "    <tr>\n",
       "      <th>4</th>\n",
       "      <td>458</td>\n",
       "      <td>Corrida Auto Replicas, Ltd</td>\n",
       "      <td>Sommer</td>\n",
       "      <td>Martín</td>\n",
       "      <td>(91) 555 22 82</td>\n",
       "      <td>C/ Araquil, 67</td>\n",
       "      <td></td>\n",
       "      <td>Madrid</td>\n",
       "      <td></td>\n",
       "      <td>28023</td>\n",
       "      <td>Spain</td>\n",
       "      <td>1702</td>\n",
       "      <td>104600.00</td>\n",
       "    </tr>\n",
       "  </tbody>\n",
       "</table>\n",
       "</div>"
      ],
      "text/plain": [
       "  customerNumber                customerName contactLastName contactFirstName  \\\n",
       "0            141      Euro+ Shopping Channel          Freyre           Diego    \n",
       "1            237               ANG Resellers          Camino       Alejandra    \n",
       "2            344                 CAF Imports       Fernandez            Jesus   \n",
       "3            362           Gifts4AllAges.com         Yoshido             Juri   \n",
       "4            458  Corrida Auto Replicas, Ltd          Sommer          Martín    \n",
       "\n",
       "             phone        addressLine1           addressLine2    city state  \\\n",
       "0   (91) 555 94 44  C/ Moralzarzal, 86                         Madrid         \n",
       "1    (91) 745 6555         Gran Vía, 1                         Madrid         \n",
       "2  +34 913 728 555     Merchants House  27-30 Merchant's Quay  Madrid         \n",
       "3       6175559555  8616 Spinnaker Dr.                         Boston    MA   \n",
       "4   (91) 555 22 82      C/ Araquil, 67                         Madrid         \n",
       "\n",
       "  postalCode country salesRepEmployeeNumber creditLimit  \n",
       "0      28034   Spain                   1370   227600.00  \n",
       "1      28001   Spain                               0.00  \n",
       "2      28023   Spain                   1702    59600.00  \n",
       "3      51003     USA                   1216    41900.00  \n",
       "4      28023   Spain                   1702   104600.00  "
      ]
     },
     "execution_count": 12,
     "metadata": {},
     "output_type": "execute_result"
    }
   ],
   "source": [
    "cur.execute(\"\"\"SELECT * FROM customers WHERE city='Boston' OR city='Madrid';\"\"\")\n",
    "df = pd.DataFrame(cur.fetchall())\n",
    "df.columns = [x[0] for x in cur.description]\n",
    "df.head()"
   ]
  },
  {
   "cell_type": "markdown",
   "metadata": {},
   "source": [
    "<font size='5'><b>The Order By and Limit Clauses<b><font>"
   ]
  },
  {
   "cell_type": "code",
   "execution_count": 16,
   "metadata": {
    "ExecuteTime": {
     "end_time": "2020-11-21T16:16:18.681325Z",
     "start_time": "2020-11-21T16:16:18.669307Z"
    }
   },
   "outputs": [
    {
     "data": {
      "text/html": [
       "<div>\n",
       "<style scoped>\n",
       "    .dataframe tbody tr th:only-of-type {\n",
       "        vertical-align: middle;\n",
       "    }\n",
       "\n",
       "    .dataframe tbody tr th {\n",
       "        vertical-align: top;\n",
       "    }\n",
       "\n",
       "    .dataframe thead th {\n",
       "        text-align: right;\n",
       "    }\n",
       "</style>\n",
       "<table border=\"1\" class=\"dataframe\">\n",
       "  <thead>\n",
       "    <tr style=\"text-align: right;\">\n",
       "      <th></th>\n",
       "      <th>customerNumber</th>\n",
       "      <th>customerName</th>\n",
       "      <th>city</th>\n",
       "      <th>creditLimit</th>\n",
       "    </tr>\n",
       "  </thead>\n",
       "  <tbody>\n",
       "    <tr>\n",
       "      <th>0</th>\n",
       "      <td>495</td>\n",
       "      <td>Diecast Collectables</td>\n",
       "      <td>Boston</td>\n",
       "      <td>85100.00</td>\n",
       "    </tr>\n",
       "    <tr>\n",
       "      <th>1</th>\n",
       "      <td>344</td>\n",
       "      <td>CAF Imports</td>\n",
       "      <td>Madrid</td>\n",
       "      <td>59600.00</td>\n",
       "    </tr>\n",
       "    <tr>\n",
       "      <th>2</th>\n",
       "      <td>362</td>\n",
       "      <td>Gifts4AllAges.com</td>\n",
       "      <td>Boston</td>\n",
       "      <td>41900.00</td>\n",
       "    </tr>\n",
       "    <tr>\n",
       "      <th>3</th>\n",
       "      <td>141</td>\n",
       "      <td>Euro+ Shopping Channel</td>\n",
       "      <td>Madrid</td>\n",
       "      <td>227600.00</td>\n",
       "    </tr>\n",
       "    <tr>\n",
       "      <th>4</th>\n",
       "      <td>458</td>\n",
       "      <td>Corrida Auto Replicas, Ltd</td>\n",
       "      <td>Madrid</td>\n",
       "      <td>104600.00</td>\n",
       "    </tr>\n",
       "  </tbody>\n",
       "</table>\n",
       "</div>"
      ],
      "text/plain": [
       "  customerNumber                customerName    city creditLimit\n",
       "0            495        Diecast Collectables  Boston    85100.00\n",
       "1            344                 CAF Imports  Madrid    59600.00\n",
       "2            362           Gifts4AllAges.com  Boston    41900.00\n",
       "3            141      Euro+ Shopping Channel  Madrid   227600.00\n",
       "4            458  Corrida Auto Replicas, Ltd  Madrid   104600.00"
      ]
     },
     "execution_count": 16,
     "metadata": {},
     "output_type": "execute_result"
    }
   ],
   "source": [
    "cur.execute(\"\"\"SELECT customerNumber, customerName, city, creditLimit\n",
    "               FROM customers\n",
    "               WHERE (city='Boston' OR city='Madrid') AND (creditLimit >= 500000.00)\n",
    "               ORDER BY creditLimit DESC\n",
    "               LIMIT 15\n",
    "               ;\"\"\")\n",
    "df = pd.DataFrame(cur.fetchall())\n",
    "df.columns = [x[0] for x in cur.description]\n",
    "df.head()"
   ]
  },
  {
   "cell_type": "markdown",
   "metadata": {},
   "source": [
    "As you will notice, the output of the query just done doesn't really respect the indicated credit limit criteria. If you perform a df.info(0 you will realize that that data is store ass an object/string and not an integer, and hence that result"
   ]
  },
  {
   "cell_type": "code",
   "execution_count": 18,
   "metadata": {
    "ExecuteTime": {
     "end_time": "2020-11-21T16:21:00.094243Z",
     "start_time": "2020-11-21T16:21:00.086593Z"
    }
   },
   "outputs": [
    {
     "name": "stdout",
     "output_type": "stream",
     "text": [
      "<class 'pandas.core.frame.DataFrame'>\n",
      "RangeIndex: 7 entries, 0 to 6\n",
      "Data columns (total 4 columns):\n",
      " #   Column          Non-Null Count  Dtype \n",
      "---  ------          --------------  ----- \n",
      " 0   customerNumber  7 non-null      object\n",
      " 1   customerName    7 non-null      object\n",
      " 2   city            7 non-null      object\n",
      " 3   creditLimit     7 non-null      object\n",
      "dtypes: object(4)\n",
      "memory usage: 352.0+ bytes\n"
     ]
    }
   ],
   "source": [
    "df.info()"
   ]
  },
  {
   "cell_type": "code",
   "execution_count": null,
   "metadata": {},
   "outputs": [],
   "source": []
  }
 ],
 "metadata": {
  "kernelspec": {
   "display_name": "learn-env",
   "language": "python",
   "name": "learn-env"
  },
  "language_info": {
   "codemirror_mode": {
    "name": "ipython",
    "version": 3
   },
   "file_extension": ".py",
   "mimetype": "text/x-python",
   "name": "python",
   "nbconvert_exporter": "python",
   "pygments_lexer": "ipython3",
   "version": "3.6.9"
  },
  "toc": {
   "base_numbering": 1,
   "nav_menu": {},
   "number_sections": true,
   "sideBar": true,
   "skip_h1_title": false,
   "title_cell": "Table of Contents",
   "title_sidebar": "Contents",
   "toc_cell": false,
   "toc_position": {},
   "toc_section_display": true,
   "toc_window_display": false
  },
  "varInspector": {
   "cols": {
    "lenName": 16,
    "lenType": 16,
    "lenVar": 40
   },
   "kernels_config": {
    "python": {
     "delete_cmd_postfix": "",
     "delete_cmd_prefix": "del ",
     "library": "var_list.py",
     "varRefreshCmd": "print(var_dic_list())"
    },
    "r": {
     "delete_cmd_postfix": ") ",
     "delete_cmd_prefix": "rm(",
     "library": "var_list.r",
     "varRefreshCmd": "cat(var_dic_list()) "
    }
   },
   "types_to_exclude": [
    "module",
    "function",
    "builtin_function_or_method",
    "instance",
    "_Feature"
   ],
   "window_display": false
  }
 },
 "nbformat": 4,
 "nbformat_minor": 4
}
